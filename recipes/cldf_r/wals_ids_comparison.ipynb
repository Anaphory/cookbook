{
 "cells": [
  {
   "cell_type": "code",
   "execution_count": 1,
   "metadata": {},
   "outputs": [],
   "source": [
    "# Download the current WALS data set to the cwd:\n",
    "download.file(\"https://cdstar.shh.mpg.de/bitstreams/EAEA0-7269-77E5-3E10-0/wals_dataset.cldf.zip\",\n",
    "              destfile = \"wals_dataset.cldf.zip\")\n",
    "\n",
    "# Read language and value information from the ZIP file:\n",
    "languages <- read.csv(unz(\"wals_dataset.cldf.zip\", \"languages.csv\"),\n",
    "                      header=TRUE, sep=\",\")\n",
    "values <- read.csv(unz(\"wals_dataset.cldf.zip\", \"values.csv\"),\n",
    "                   header=TRUE, sep=\",\")"
   ]
  },
  {
   "cell_type": "code",
   "execution_count": 2,
   "metadata": {},
   "outputs": [
    {
     "data": {
      "text/html": [
       "TRUE"
      ],
      "text/latex": [
       "TRUE"
      ],
      "text/markdown": [
       "TRUE"
      ],
      "text/plain": [
       "[1] TRUE"
      ]
     },
     "metadata": {},
     "output_type": "display_data"
    }
   ],
   "source": [
    "# Let's lookup the feature \"Hand and Arm\" that has got two levels:\n",
    "# Identical and Different, for the same or different lexemes for hand/arm\n",
    "# in a language, respectively:\n",
    "feature <- \"129A\"\n",
    "values.filtered <- values[values$Parameter_ID == feature,]\n",
    "values.filtered <- droplevels(values.filtered)\n",
    "\n",
    "# Naturally, the amount of languages we have information\n",
    "# concerning this feature is identical to the information available\n",
    "# in WALS online:\n",
    "dim(values.filtered)[1] == (228 + 389)"
   ]
  },
  {
   "cell_type": "code",
   "execution_count": 3,
   "metadata": {},
   "outputs": [
    {
     "data": {
      "image/jpeg": "[encoded data removed]",
      "image/png": "",
      "image/svg+xml": [
       "<?xml version=\"1.0\" encoding=\"UTF-8\"?>\n",
       "<svg xmlns=\"http://www.w3.org/2000/svg\" xmlns:xlink=\"http://www.w3.org/1999/xlink\" width=\"288pt\" height=\"216pt\" viewBox=\"0 0 288 216\" version=\"1.1\">\n",
       "<defs>\n",
       "<g>\n",
       "<symbol overflow=\"visible\" id=\"glyph0-0\">\n",
       "<path style=\"stroke:none;\" d=\"\"/>\n",
       "</symbol>\n",
       "<symbol overflow=\"visible\" id=\"glyph0-1\">\n",
       "<path style=\"stroke:none;\" d=\"M 8.46875 -4.6875 C 8.46875 -7.515625 6.9375 -9.375 4.625 -9.375 L 0.96875 -9.375 L 0.96875 0 L 4.625 0 C 6.921875 0 8.46875 -1.84375 8.46875 -4.6875 Z M 7.03125 -4.671875 C 7.03125 -2.375 6.21875 -1.28125 4.421875 -1.28125 L 2.40625 -1.28125 L 2.40625 -8.09375 L 4.421875 -8.09375 C 6.21875 -8.09375 7.03125 -7 7.03125 -4.671875 Z M 7.03125 -4.671875 \"/>\n",
       "</symbol>\n",
       "<symbol overflow=\"visible\" id=\"glyph0-2\">\n",
       "<path style=\"stroke:none;\" d=\"M 2.03125 -0.125 L 2.03125 -6.8125 L 0.734375 -6.8125 L 0.734375 0 L 2.03125 0 Z M 2.171875 -7.65625 L 2.171875 -9.09375 L 0.609375 -9.09375 L 0.609375 -7.53125 L 2.171875 -7.53125 Z M 2.171875 -7.65625 \"/>\n",
       "</symbol>\n",
       "<symbol overflow=\"visible\" id=\"glyph0-3\">\n",
       "<path style=\"stroke:none;\" d=\"M 3.34375 -5.828125 L 3.34375 -6.8125 L 2.265625 -6.8125 L 2.265625 -7.703125 C 2.265625 -8.140625 2.390625 -8.234375 2.859375 -8.234375 C 2.953125 -8.234375 2.984375 -8.234375 3.34375 -8.21875 L 3.34375 -9.3125 C 2.984375 -9.40625 2.84375 -9.40625 2.640625 -9.40625 C 1.671875 -9.40625 0.96875 -8.71875 0.96875 -7.78125 L 0.96875 -6.8125 L 0.09375 -6.8125 L 0.09375 -5.703125 L 0.96875 -5.703125 L 0.96875 0 L 2.265625 0 L 2.265625 -5.703125 L 3.34375 -5.703125 Z M 3.34375 -5.828125 \"/>\n",
       "</symbol>\n",
       "<symbol overflow=\"visible\" id=\"glyph0-4\">\n",
       "<path style=\"stroke:none;\" d=\"M 6.53125 -3.09375 C 6.53125 -4.046875 6.46875 -4.65625 6.28125 -5.140625 C 5.84375 -6.21875 4.71875 -7 3.5 -7 C 1.671875 -7 0.359375 -5.515625 0.359375 -3.359375 C 0.359375 -1.21875 1.640625 0.1875 3.46875 0.1875 C 4.96875 0.1875 6.140625 -0.78125 6.421875 -2.25 L 5.125 -2.25 C 4.796875 -1.25 4.34375 -1.03125 3.515625 -1.03125 C 2.421875 -1.03125 1.734375 -1.59375 1.71875 -2.96875 L 6.53125 -2.96875 Z M 5.390625 -3.9375 C 5.390625 -3.9375 5.203125 -4.0625 5.21875 -4.09375 L 1.75 -4.09375 C 1.828125 -5.109375 2.4375 -5.78125 3.484375 -5.78125 C 4.515625 -5.78125 5.15625 -5.046875 5.15625 -4.03125 Z M 5.390625 -3.9375 \"/>\n",
       "</symbol>\n",
       "<symbol overflow=\"visible\" id=\"glyph0-5\">\n",
       "<path style=\"stroke:none;\" d=\"M 4.140625 -5.765625 L 4.140625 -6.9375 C 3.84375 -6.984375 3.75 -7 3.609375 -7 C 2.9375 -7 2.328125 -6.546875 1.71875 -5.578125 L 1.953125 -5.484375 L 1.953125 -6.8125 L 0.734375 -6.8125 L 0.734375 0 L 2.03125 0 L 2.03125 -3.53125 C 2.03125 -5 2.40625 -5.609375 4.140625 -5.640625 Z M 4.140625 -5.765625 \"/>\n",
       "</symbol>\n",
       "<symbol overflow=\"visible\" id=\"glyph0-6\">\n",
       "<path style=\"stroke:none;\" d=\"M 6.21875 -0.125 L 6.21875 -5.078125 C 6.21875 -6.15625 5.28125 -7 4.015625 -7 C 3.03125 -7 2.3125 -6.578125 1.734375 -5.65625 L 1.96875 -5.578125 L 1.96875 -6.8125 L 0.734375 -6.8125 L 0.734375 0 L 2.03125 0 L 2.03125 -3.734375 C 2.03125 -5.078125 2.640625 -5.828125 3.703125 -5.828125 C 4.53125 -5.828125 4.90625 -5.453125 4.90625 -4.65625 L 4.90625 0 L 6.21875 0 Z M 6.21875 -0.125 \"/>\n",
       "</symbol>\n",
       "<symbol overflow=\"visible\" id=\"glyph0-7\">\n",
       "<path style=\"stroke:none;\" d=\"M 3.296875 -0.125 L 3.296875 -1.171875 C 3.03125 -1.09375 2.875 -1.09375 2.671875 -1.09375 C 2.21875 -1.09375 2.21875 -1.078125 2.21875 -1.53125 L 2.21875 -5.703125 L 3.296875 -5.703125 L 3.296875 -6.8125 L 2.21875 -6.8125 L 2.21875 -8.609375 L 0.921875 -8.609375 L 0.921875 -6.8125 L 0.03125 -6.8125 L 0.03125 -5.703125 L 0.921875 -5.703125 L 0.921875 -1.078125 C 0.921875 -0.40625 1.515625 0.09375 2.328125 0.09375 C 2.578125 0.09375 2.828125 0.0625 3.296875 -0.015625 Z M 3.296875 -0.125 \"/>\n",
       "</symbol>\n",
       "<symbol overflow=\"visible\" id=\"glyph0-8\">\n",
       "<path style=\"stroke:none;\" d=\"M 2.53125 -0.125 L 2.53125 -9.375 L 1.109375 -9.375 L 1.109375 0 L 2.53125 0 Z M 2.53125 -0.125 \"/>\n",
       "</symbol>\n",
       "<symbol overflow=\"visible\" id=\"glyph0-9\">\n",
       "<path style=\"stroke:none;\" d=\"M 6.3125 -0.125 L 6.3125 -9.375 L 5.015625 -9.375 L 5.015625 -5.84375 L 5.234375 -5.9375 C 4.796875 -6.59375 4.015625 -7 3.140625 -7 C 1.4375 -7 0.1875 -5.546875 0.1875 -3.46875 C 0.1875 -1.25 1.40625 0.1875 3.171875 0.1875 C 4.078125 0.1875 4.78125 -0.1875 5.34375 -1 L 5.125 -1.09375 L 5.125 0 L 6.3125 0 Z M 5.015625 -3.375 C 5.015625 -1.859375 4.421875 -1.046875 3.328125 -1.046875 C 2.171875 -1.046875 1.53125 -1.875 1.53125 -3.40625 C 1.53125 -4.921875 2.171875 -5.765625 3.3125 -5.765625 C 4.4375 -5.765625 5.015625 -4.890625 5.015625 -3.375 Z M 5.015625 -3.375 \"/>\n",
       "</symbol>\n",
       "<symbol overflow=\"visible\" id=\"glyph0-10\">\n",
       "<path style=\"stroke:none;\" d=\"M 5.96875 -2.515625 L 4.796875 -2.515625 C 4.59375 -1.328125 4.203125 -1.03125 3.3125 -1.03125 C 2.15625 -1.03125 1.59375 -1.78125 1.59375 -3.34375 C 1.59375 -4.96875 2.15625 -5.78125 3.28125 -5.78125 C 4.15625 -5.78125 4.578125 -5.390625 4.71875 -4.34375 L 6.03125 -4.34375 C 5.890625 -6.078125 4.765625 -7 3.296875 -7 C 1.53125 -7 0.25 -5.515625 0.25 -3.34375 C 0.25 -1.21875 1.515625 0.1875 3.28125 0.1875 C 4.84375 0.1875 5.96875 -0.875 6.09375 -2.515625 Z M 5.96875 -2.515625 \"/>\n",
       "</symbol>\n",
       "<symbol overflow=\"visible\" id=\"glyph0-11\">\n",
       "<path style=\"stroke:none;\" d=\"M 6.8125 -0.15625 L 6.8125 -1.09375 C 6.578125 -1.046875 6.53125 -1.046875 6.46875 -1.046875 C 6.09375 -1.046875 6.03125 -1.09375 6.03125 -1.421875 L 6.03125 -5.078125 C 6.03125 -6.234375 5.046875 -7 3.4375 -7 C 1.84375 -7 0.734375 -6.25 0.65625 -4.609375 L 1.96875 -4.609375 C 2.078125 -5.53125 2.421875 -5.78125 3.40625 -5.78125 C 4.34375 -5.78125 4.71875 -5.546875 4.71875 -4.921875 L 4.71875 -4.65625 C 4.71875 -4.21875 4.59375 -4.15625 3.78125 -4.0625 C 2.296875 -3.875 2.078125 -3.828125 1.671875 -3.65625 C 0.90625 -3.34375 0.390625 -2.625 0.390625 -1.828125 C 0.390625 -0.640625 1.34375 0.1875 2.671875 0.1875 C 3.515625 0.1875 4.40625 -0.203125 4.828125 -0.640625 C 4.875 -0.40625 5.46875 0.09375 5.96875 0.09375 C 6.1875 0.09375 6.34375 0.0625 6.8125 -0.046875 Z M 4.71875 -2.390625 C 4.71875 -1.453125 3.90625 -0.984375 2.90625 -0.984375 C 2.09375 -0.984375 1.734375 -1.140625 1.734375 -1.84375 C 1.734375 -2.53125 2.078125 -2.71875 3.1875 -2.875 C 4.28125 -3.03125 4.515625 -3.078125 4.71875 -3.171875 Z M 4.71875 -2.390625 \"/>\n",
       "</symbol>\n",
       "<symbol overflow=\"visible\" id=\"glyph0-12\">\n",
       "<path style=\"stroke:none;\" d=\"M 2.015625 -0.125 L 2.015625 -9.375 L 0.71875 -9.375 L 0.71875 0 L 2.015625 0 Z M 2.015625 -0.125 \"/>\n",
       "</symbol>\n",
       "<symbol overflow=\"visible\" id=\"glyph1-0\">\n",
       "<path style=\"stroke:none;\" d=\"\"/>\n",
       "</symbol>\n",
       "<symbol overflow=\"visible\" id=\"glyph1-1\">\n",
       "<path style=\"stroke:none;\" d=\"M -4.390625 -6.46875 C -7.46875 -6.46875 -9.125 -5.359375 -9.125 -3.4375 C -9.125 -1.53125 -7.4375 -0.40625 -4.46875 -0.40625 C -1.46875 -0.40625 0.1875 -1.53125 0.1875 -3.4375 C 0.1875 -5.3125 -1.46875 -6.46875 -4.390625 -6.46875 Z M -4.484375 -5.078125 C -1.96875 -5.078125 -0.984375 -4.640625 -0.984375 -3.40625 C -0.984375 -2.25 -2.03125 -1.78125 -4.453125 -1.78125 C -6.875 -1.78125 -7.890625 -2.25 -7.890625 -3.4375 C -7.890625 -4.625 -6.859375 -5.078125 -4.484375 -5.078125 Z M -4.484375 -5.078125 \"/>\n",
       "</symbol>\n",
       "<symbol overflow=\"visible\" id=\"glyph1-2\">\n",
       "<path style=\"stroke:none;\" d=\"M -6.390625 -6.515625 C -7.890625 -6.515625 -9.125 -5.21875 -9.125 -3.546875 C -9.125 -1.734375 -8.0625 -0.546875 -5.78125 -0.484375 L -5.78125 -1.84375 C -7.40625 -1.9375 -7.90625 -2.421875 -7.90625 -3.515625 C -7.90625 -4.515625 -7.3125 -5.125 -6.359375 -5.125 C -5.65625 -5.125 -5.15625 -4.75 -4.703125 -3.96875 L -4.046875 -2.8125 C -3 -0.96875 -2.078125 -0.390625 0 -0.28125 L 0 -6.453125 L -1.34375 -6.453125 L -1.34375 -1.8125 C -1.9375 -1.90625 -2.3125 -2.265625 -2.953125 -3.34375 L -3.625 -4.59375 C -4.28125 -5.84375 -5.296875 -6.515625 -6.390625 -6.515625 Z M -6.390625 -6.515625 \"/>\n",
       "</symbol>\n",
       "<symbol overflow=\"visible\" id=\"glyph1-3\">\n",
       "<path style=\"stroke:none;\" d=\"M -2.25 -6.625 L -3.375 -6.625 L -3.375 -5.3125 L -9.125 -5.3125 L -9.125 -4.296875 L -3.453125 -0.21875 L -2.125 -0.21875 L -2.125 -3.953125 L 0 -3.953125 L 0 -5.3125 L -2.125 -5.3125 L -2.125 -6.625 Z M -3.375 -4.09375 L -3.375 -1.5625 L -7.03125 -4.171875 L -7.109375 -3.953125 L -3.375 -3.953125 Z M -3.375 -4.09375 \"/>\n",
       "</symbol>\n",
       "</g>\n",
       "</defs>\n",
       "<g id=\"surface58\">\n",
       "<rect x=\"0\" y=\"0\" width=\"288\" height=\"216\" style=\"fill:rgb(100%,100%,100%);fill-opacity:1;stroke:none;\"/>\n",
       "<path style=\"fill-rule:nonzero;fill:rgb(74.509804%,74.509804%,74.509804%);fill-opacity:1;stroke-width:1;stroke-linecap:round;stroke-linejoin:round;stroke:rgb(0%,0%,0%);stroke-opacity:1;stroke-miterlimit:10;\" d=\"M 66.398438 61.335938 L 150.035156 61.335938 L 150.035156 142.558594 L 66.398438 142.558594 Z M 66.398438 61.335938 \"/>\n",
       "<path style=\"fill-rule:nonzero;fill:rgb(74.509804%,74.509804%,74.509804%);fill-opacity:1;stroke-width:1;stroke-linecap:round;stroke-linejoin:round;stroke:rgb(0%,0%,0%);stroke-opacity:1;stroke-miterlimit:10;\" d=\"M 166.761719 94.953125 L 250.398438 94.953125 L 250.398438 142.558594 L 166.761719 142.558594 Z M 166.761719 94.953125 \"/>\n",
       "<g style=\"fill:rgb(0%,0%,0%);fill-opacity:1;\">\n",
       "  <use xlink:href=\"#glyph0-1\" x=\"84.601562\" y=\"169.921875\"/>\n",
       "  <use xlink:href=\"#glyph0-2\" x=\"93.626602\" y=\"169.921875\"/>\n",
       "  <use xlink:href=\"#glyph0-3\" x=\"96.401611\" y=\"169.921875\"/>\n",
       "  <use xlink:href=\"#glyph0-3\" x=\"99.876617\" y=\"169.921875\"/>\n",
       "  <use xlink:href=\"#glyph0-4\" x=\"103.351624\" y=\"169.921875\"/>\n",
       "  <use xlink:href=\"#glyph0-5\" x=\"110.301651\" y=\"169.921875\"/>\n",
       "  <use xlink:href=\"#glyph0-4\" x=\"114.464172\" y=\"169.921875\"/>\n",
       "  <use xlink:href=\"#glyph0-6\" x=\"121.4142\" y=\"169.921875\"/>\n",
       "  <use xlink:href=\"#glyph0-7\" x=\"128.364227\" y=\"169.921875\"/>\n",
       "</g>\n",
       "<g style=\"fill:rgb(0%,0%,0%);fill-opacity:1;\">\n",
       "  <use xlink:href=\"#glyph0-8\" x=\"185.308594\" y=\"169.921875\"/>\n",
       "  <use xlink:href=\"#glyph0-9\" x=\"188.7836\" y=\"169.921875\"/>\n",
       "  <use xlink:href=\"#glyph0-4\" x=\"195.733627\" y=\"169.921875\"/>\n",
       "  <use xlink:href=\"#glyph0-6\" x=\"202.683655\" y=\"169.921875\"/>\n",
       "  <use xlink:href=\"#glyph0-7\" x=\"209.633682\" y=\"169.921875\"/>\n",
       "  <use xlink:href=\"#glyph0-2\" x=\"213.108688\" y=\"169.921875\"/>\n",
       "  <use xlink:href=\"#glyph0-10\" x=\"215.883698\" y=\"169.921875\"/>\n",
       "  <use xlink:href=\"#glyph0-11\" x=\"222.133728\" y=\"169.921875\"/>\n",
       "  <use xlink:href=\"#glyph0-12\" x=\"229.083755\" y=\"169.921875\"/>\n",
       "</g>\n",
       "<path style=\"fill:none;stroke-width:1;stroke-linecap:round;stroke-linejoin:round;stroke:rgb(0%,0%,0%);stroke-opacity:1;stroke-miterlimit:10;\" d=\"M 59.039062 142.558594 L 59.039062 59.039062 \"/>\n",
       "<path style=\"fill:none;stroke-width:1;stroke-linecap:round;stroke-linejoin:round;stroke:rgb(0%,0%,0%);stroke-opacity:1;stroke-miterlimit:10;\" d=\"M 59.039062 142.558594 L 51.839844 142.558594 \"/>\n",
       "<path style=\"fill:none;stroke-width:1;stroke-linecap:round;stroke-linejoin:round;stroke:rgb(0%,0%,0%);stroke-opacity:1;stroke-miterlimit:10;\" d=\"M 59.039062 121.679688 L 51.839844 121.679688 \"/>\n",
       "<path style=\"fill:none;stroke-width:1;stroke-linecap:round;stroke-linejoin:round;stroke:rgb(0%,0%,0%);stroke-opacity:1;stroke-miterlimit:10;\" d=\"M 59.039062 100.800781 L 51.839844 100.800781 \"/>\n",
       "<path style=\"fill:none;stroke-width:1;stroke-linecap:round;stroke-linejoin:round;stroke:rgb(0%,0%,0%);stroke-opacity:1;stroke-miterlimit:10;\" d=\"M 59.039062 79.921875 L 51.839844 79.921875 \"/>\n",
       "<path style=\"fill:none;stroke-width:1;stroke-linecap:round;stroke-linejoin:round;stroke:rgb(0%,0%,0%);stroke-opacity:1;stroke-miterlimit:10;\" d=\"M 59.039062 59.039062 L 51.839844 59.039062 \"/>\n",
       "<g style=\"fill:rgb(0%,0%,0%);fill-opacity:1;\">\n",
       "  <use xlink:href=\"#glyph1-1\" x=\"43.199219\" y=\"146.035156\"/>\n",
       "</g>\n",
       "<g style=\"fill:rgb(0%,0%,0%);fill-opacity:1;\">\n",
       "  <use xlink:href=\"#glyph1-2\" x=\"43.199219\" y=\"111.226562\"/>\n",
       "  <use xlink:href=\"#glyph1-1\" x=\"43.199219\" y=\"104.276535\"/>\n",
       "  <use xlink:href=\"#glyph1-1\" x=\"43.199219\" y=\"97.326508\"/>\n",
       "</g>\n",
       "<g style=\"fill:rgb(0%,0%,0%);fill-opacity:1;\">\n",
       "  <use xlink:href=\"#glyph1-3\" x=\"43.199219\" y=\"69.464844\"/>\n",
       "  <use xlink:href=\"#glyph1-1\" x=\"43.199219\" y=\"62.514816\"/>\n",
       "  <use xlink:href=\"#glyph1-1\" x=\"43.199219\" y=\"55.564789\"/>\n",
       "</g>\n",
       "</g>\n",
       "</svg>\n"
      ]
     },
     "metadata": {
      "image/svg+xml": {
       "isolated": true
      }
     },
     "output_type": "display_data"
    }
   ],
   "source": [
    "# Make a simple barplot:\n",
    "barplot(table(values.filtered$Value), ylim = c(0, 400))"
   ]
  },
  {
   "cell_type": "code",
   "execution_count": 4,
   "metadata": {},
   "outputs": [
    {
     "data": {
      "text/plain": [
       "\n",
       "Call:\n",
       "glm(formula = merged$Value ~ merged$Longitude + merged$Latitude, \n",
       "    family = \"binomial\")\n",
       "\n",
       "Deviance Residuals: \n",
       "    Min       1Q   Median       3Q      Max  \n",
       "-1.4551  -0.9608  -0.7946   1.2146   1.9447  \n",
       "\n",
       "Coefficients:\n",
       "                   Estimate Std. Error z value Pr(>|z|)    \n",
       "(Intercept)      -0.6903739  0.1005661  -6.865 6.65e-12 ***\n",
       "merged$Longitude  0.0045997  0.0009496   4.844 1.27e-06 ***\n",
       "merged$Latitude   0.0133588  0.0037045   3.606 0.000311 ***\n",
       "---\n",
       "Signif. codes:  0 ‘***’ 0.001 ‘**’ 0.01 ‘*’ 0.05 ‘.’ 0.1 ‘ ’ 1\n",
       "\n",
       "(Dispersion parameter for binomial family taken to be 1)\n",
       "\n",
       "    Null deviance: 812.84  on 616  degrees of freedom\n",
       "Residual deviance: 785.65  on 614  degrees of freedom\n",
       "AIC: 791.65\n",
       "\n",
       "Number of Fisher Scoring iterations: 4\n"
      ]
     },
     "metadata": {},
     "output_type": "display_data"
    }
   ],
   "source": [
    "# We want some more information about the languages, so let's\n",
    "# merge the filtered list from above with a list containing language\n",
    "# information:\n",
    "languages.filtered <- languages[languages$ID %in% values.filtered$Language_ID,]\n",
    "colnames(languages.filtered)[1] <- \"Language_ID\"\n",
    "merged <- merge(languages.filtered, values[values$Parameter_ID == feature,], by = \"Language_ID\", all = TRUE)\n",
    "\n",
    "# Merged now has our feature information list as well as language information, for example\n",
    "# geographical coordinates for the languages. Let's build a (simple, non-sensical) regression\n",
    "# model and see whether hand/arm-colexification is connected to spatial information:\n",
    "glm.analysis <- glm(merged$Value ~ merged$Longitude + merged$Latitude, family = \"binomial\")\n",
    "\n",
    "# Having eyeballed the map for about five seconds there is indeed a strong confirmation\n",
    "# in our model for a specific geographic distribution:\n",
    "summary(glm.analysis)"
   ]
  },
  {
   "cell_type": "code",
   "execution_count": 5,
   "metadata": {},
   "outputs": [
    {
     "data": {
      "text/html": [
       "<table>\n",
       "<thead><tr><th></th><th scope=col>ID</th><th scope=col>Language_ID</th><th scope=col>Parameter_ID</th><th scope=col>Form</th><th scope=col>Segments</th><th scope=col>Comment</th><th scope=col>Source</th><th scope=col>Contribution_ID</th></tr></thead>\n",
       "<tbody>\n",
       "\t<tr><th scope=row>231163</th><td>4-310-325-1</td><td>325        </td><td>4-310      </td><td>лыкьа      </td><td>NA         </td><td>NA         </td><td>NA         </td><td>325        </td></tr>\n",
       "\t<tr><th scope=row>231164</th><td>4-310-325-3</td><td>325        </td><td>4-310      </td><td>геша       </td><td>NA         </td><td>NA         </td><td>NA         </td><td>325        </td></tr>\n",
       "\t<tr><th scope=row>231165</th><td>4-310-319-1</td><td>319        </td><td>4-310      </td><td>къух       </td><td>NA         </td><td>NA         </td><td>NA         </td><td>319        </td></tr>\n",
       "\t<tr><th scope=row>231166</th><td>4-310-319-3</td><td>319        </td><td>4-310      </td><td>арм        </td><td>NA         </td><td>NA         </td><td>NA         </td><td>319        </td></tr>\n",
       "\t<tr><th scope=row>231167</th><td>4-310-320-1</td><td>320        </td><td>4-310      </td><td>квер       </td><td>NA         </td><td>NA         </td><td>NA         </td><td>320        </td></tr>\n",
       "\t<tr><th scope=row>231168</th><td>4-310-321-1</td><td>321        </td><td>4-310      </td><td>квер       </td><td>NA         </td><td>NA         </td><td>NA         </td><td>321        </td></tr>\n",
       "</tbody>\n",
       "</table>\n"
      ],
      "text/latex": [
       "\\begin{tabular}{r|llllllll}\n",
       "  & ID & Language\\_ID & Parameter\\_ID & Form & Segments & Comment & Source & Contribution\\_ID\\\\\n",
       "\\hline\n",
       "\t231163 & 4-310-325-1 & 325         & 4-310       & лыкьа       & NA          & NA          & NA          & 325        \\\\\n",
       "\t231164 & 4-310-325-3 & 325         & 4-310       & геша        & NA          & NA          & NA          & 325        \\\\\n",
       "\t231165 & 4-310-319-1 & 319         & 4-310       & къух        & NA          & NA          & NA          & 319        \\\\\n",
       "\t231166 & 4-310-319-3 & 319         & 4-310       & арм         & NA          & NA          & NA          & 319        \\\\\n",
       "\t231167 & 4-310-320-1 & 320         & 4-310       & квер        & NA          & NA          & NA          & 320        \\\\\n",
       "\t231168 & 4-310-321-1 & 321         & 4-310       & квер        & NA          & NA          & NA          & 321        \\\\\n",
       "\\end{tabular}\n"
      ],
      "text/markdown": [
       "\n",
       "| <!--/--> | ID | Language_ID | Parameter_ID | Form | Segments | Comment | Source | Contribution_ID | \n",
       "|---|---|---|---|---|---|\n",
       "| 231163 | 4-310-325-1 | 325         | 4-310       | лыкьа       | NA          | NA          | NA          | 325         | \n",
       "| 231164 | 4-310-325-3 | 325         | 4-310       | геша        | NA          | NA          | NA          | 325         | \n",
       "| 231165 | 4-310-319-1 | 319         | 4-310       | къух        | NA          | NA          | NA          | 319         | \n",
       "| 231166 | 4-310-319-3 | 319         | 4-310       | арм         | NA          | NA          | NA          | 319         | \n",
       "| 231167 | 4-310-320-1 | 320         | 4-310       | квер        | NA          | NA          | NA          | 320         | \n",
       "| 231168 | 4-310-321-1 | 321         | 4-310       | квер        | NA          | NA          | NA          | 321         | \n",
       "\n",
       "\n"
      ],
      "text/plain": [
       "       ID          Language_ID Parameter_ID Form  Segments Comment Source\n",
       "231163 4-310-325-1 325         4-310        лыкьа NA       NA      NA    \n",
       "231164 4-310-325-3 325         4-310        геша  NA       NA      NA    \n",
       "231165 4-310-319-1 319         4-310        къух  NA       NA      NA    \n",
       "231166 4-310-319-3 319         4-310        арм   NA       NA      NA    \n",
       "231167 4-310-320-1 320         4-310        квер  NA       NA      NA    \n",
       "231168 4-310-321-1 321         4-310        квер  NA       NA      NA    \n",
       "       Contribution_ID\n",
       "231163 325            \n",
       "231164 325            \n",
       "231165 319            \n",
       "231166 319            \n",
       "231167 320            \n",
       "231168 321            "
      ]
     },
     "metadata": {},
     "output_type": "display_data"
    },
    {
     "data": {
      "text/html": [
       "<table>\n",
       "<thead><tr><th></th><th scope=col>ID</th><th scope=col>Language_ID</th><th scope=col>Parameter_ID</th><th scope=col>Form</th><th scope=col>Segments</th><th scope=col>Comment</th><th scope=col>Source</th><th scope=col>Contribution_ID</th></tr></thead>\n",
       "<tbody>\n",
       "\t<tr><th scope=row>229840</th><td>4-330-325-1</td><td>325        </td><td>4-330      </td><td>ликьа      </td><td>NA         </td><td>NA         </td><td>NA         </td><td>325        </td></tr>\n",
       "\t<tr><th scope=row>229841</th><td>4-330-325-3</td><td>325        </td><td>4-330      </td><td>рацIцIалба </td><td>NA         </td><td>NA         </td><td>NA         </td><td>325        </td></tr>\n",
       "\t<tr><th scope=row>229842</th><td>4-330-319-1</td><td>319        </td><td>4-330      </td><td>къух       </td><td>NA         </td><td>NA         </td><td>NA         </td><td>319        </td></tr>\n",
       "\t<tr><th scope=row>229843</th><td>4-330-319-3</td><td>319        </td><td>4-330      </td><td>арм        </td><td>NA         </td><td>NA         </td><td>NA         </td><td>319        </td></tr>\n",
       "\t<tr><th scope=row>229844</th><td>4-330-320-1</td><td>320        </td><td>4-330      </td><td>квер       </td><td>NA         </td><td>NA         </td><td>NA         </td><td>320        </td></tr>\n",
       "\t<tr><th scope=row>229845</th><td>4-330-321-1</td><td>321        </td><td>4-330      </td><td>квер       </td><td>NA         </td><td>NA         </td><td>NA         </td><td>321        </td></tr>\n",
       "</tbody>\n",
       "</table>\n"
      ],
      "text/latex": [
       "\\begin{tabular}{r|llllllll}\n",
       "  & ID & Language\\_ID & Parameter\\_ID & Form & Segments & Comment & Source & Contribution\\_ID\\\\\n",
       "\\hline\n",
       "\t229840 & 4-330-325-1 & 325         & 4-330       & ликьа       & NA          & NA          & NA          & 325        \\\\\n",
       "\t229841 & 4-330-325-3 & 325         & 4-330       & рацIцIалба  & NA          & NA          & NA          & 325        \\\\\n",
       "\t229842 & 4-330-319-1 & 319         & 4-330       & къух        & NA          & NA          & NA          & 319        \\\\\n",
       "\t229843 & 4-330-319-3 & 319         & 4-330       & арм         & NA          & NA          & NA          & 319        \\\\\n",
       "\t229844 & 4-330-320-1 & 320         & 4-330       & квер        & NA          & NA          & NA          & 320        \\\\\n",
       "\t229845 & 4-330-321-1 & 321         & 4-330       & квер        & NA          & NA          & NA          & 321        \\\\\n",
       "\\end{tabular}\n"
      ],
      "text/markdown": [
       "\n",
       "| <!--/--> | ID | Language_ID | Parameter_ID | Form | Segments | Comment | Source | Contribution_ID | \n",
       "|---|---|---|---|---|---|\n",
       "| 229840 | 4-330-325-1 | 325         | 4-330       | ликьа       | NA          | NA          | NA          | 325         | \n",
       "| 229841 | 4-330-325-3 | 325         | 4-330       | рацIцIалба  | NA          | NA          | NA          | 325         | \n",
       "| 229842 | 4-330-319-1 | 319         | 4-330       | къух        | NA          | NA          | NA          | 319         | \n",
       "| 229843 | 4-330-319-3 | 319         | 4-330       | арм         | NA          | NA          | NA          | 319         | \n",
       "| 229844 | 4-330-320-1 | 320         | 4-330       | квер        | NA          | NA          | NA          | 320         | \n",
       "| 229845 | 4-330-321-1 | 321         | 4-330       | квер        | NA          | NA          | NA          | 321         | \n",
       "\n",
       "\n"
      ],
      "text/plain": [
       "       ID          Language_ID Parameter_ID Form       Segments Comment Source\n",
       "229840 4-330-325-1 325         4-330        ликьа      NA       NA      NA    \n",
       "229841 4-330-325-3 325         4-330        рацIцIалба NA       NA      NA    \n",
       "229842 4-330-319-1 319         4-330        къух       NA       NA      NA    \n",
       "229843 4-330-319-3 319         4-330        арм        NA       NA      NA    \n",
       "229844 4-330-320-1 320         4-330        квер       NA       NA      NA    \n",
       "229845 4-330-321-1 321         4-330        квер       NA       NA      NA    \n",
       "       Contribution_ID\n",
       "229840 325            \n",
       "229841 325            \n",
       "229842 319            \n",
       "229843 319            \n",
       "229844 320            \n",
       "229845 321            "
      ]
     },
     "metadata": {},
     "output_type": "display_data"
    }
   ],
   "source": [
    "# Let's confirm this distrubtion by loading a different data set,\n",
    "# namely the Intercontinental Dictionary Series:\n",
    "\n",
    "# Download the current WALS data set to the cwd:\n",
    "download.file(\"https://cdstar.shh.mpg.de/bitstreams/EAEA0-9C1A-66E2-D0B3-0/ids_dataset.cldf.zip\",\n",
    "              destfile = \"ids_dataset.cldf.zip\")\n",
    "\n",
    "# Read language and value information from the ZIP file:\n",
    "languages.ids <- read.csv(unz(\"ids_dataset.cldf.zip\", \"languages.csv\"),\n",
    "                      header=TRUE, sep=\",\")\n",
    "parameters.ids <- read.csv(unz(\"ids_dataset.cldf.zip\", \"parameters.csv\"),\n",
    "                   header=TRUE, sep=\",\")\n",
    "forms.ids <- read.csv(unz(\"ids_dataset.cldf.zip\", \"forms.csv\"),\n",
    "                           header=TRUE, sep=\",\", encoding=\"UTF-8\")\n",
    "\n",
    "meaning.hand <- \"4-330\"\n",
    "meaning.arm <- \"4-310\"\n",
    "\n",
    "hand.filtered <- forms.ids[forms.ids$Parameter_ID == meaning.hand,]\n",
    "hand.filtered <- droplevels(hand.filtered)\n",
    "\n",
    "arm.filtered <- forms.ids[forms.ids$Parameter_ID == meaning.arm,]\n",
    "arm.filtered <- droplevels(arm.filtered)\n",
    "\n",
    "head(arm.filtered)\n",
    "head(hand.filtered)"
   ]
  },
  {
   "cell_type": "code",
   "execution_count": 6,
   "metadata": {},
   "outputs": [
    {
     "data": {
      "text/html": [
       "<ol class=list-inline>\n",
       "\t<li>24</li>\n",
       "\t<li>14</li>\n",
       "</ol>\n"
      ],
      "text/latex": [
       "\\begin{enumerate*}\n",
       "\\item 24\n",
       "\\item 14\n",
       "\\end{enumerate*}\n"
      ],
      "text/markdown": [
       "1. 24\n",
       "2. 14\n",
       "\n",
       "\n"
      ],
      "text/plain": [
       "[1] 24 14"
      ]
     },
     "metadata": {},
     "output_type": "display_data"
    }
   ],
   "source": [
    "# Prepare this for comparing it to WALS:\n",
    "merged.hand.arm <- merge(hand.filtered, arm.filtered, by = \"Language_ID\", suffixes = c('.hand', '.arm'))\n",
    "same.lexeme <- merged.hand.arm[as.character(merged.hand.arm$Form.hand) == as.character(merged.hand.arm$Form.arm), ]\n",
    "colnames(languages.ids)[1] <- \"Language_ID\"\n",
    "\n",
    "# Merge to get easy access to the Glottocode:\n",
    "merge.for.comparison <- merge(same.lexeme, languages.ids, by = \"Language_ID\")\n",
    "\n",
    "# Compare to the WALS feature selection from above:\n",
    "overlap <- merged[merged$Glottocode %in% merge.for.comparison$Glottocode,]\n",
    "\n",
    "# There is an overlap of 24 entries for the same/same entries in both databases:\n",
    "dim(overlap)"
   ]
  },
  {
   "cell_type": "code",
   "execution_count": 7,
   "metadata": {},
   "outputs": [
    {
     "data": {
      "text/html": [
       "<ol class=list-inline>\n",
       "\t<li>8</li>\n",
       "\t<li>14</li>\n",
       "</ol>\n"
      ],
      "text/latex": [
       "\\begin{enumerate*}\n",
       "\\item 8\n",
       "\\item 14\n",
       "\\end{enumerate*}\n"
      ],
      "text/markdown": [
       "1. 8\n",
       "2. 14\n",
       "\n",
       "\n"
      ],
      "text/plain": [
       "[1]  8 14"
      ]
     },
     "metadata": {},
     "output_type": "display_data"
    }
   ],
   "source": [
    "# There are 8 languoids that have a \"Different\" value for the arm/hand colexification\n",
    "# but have the same lexeme in IDS:\n",
    "differences <- subset(overlap, Value == \"Different\")\n",
    "dim(differences)"
   ]
  },
  {
   "cell_type": "code",
   "execution_count": 8,
   "metadata": {},
   "outputs": [
    {
     "data": {
      "text/html": [
       "<table>\n",
       "<thead><tr><th></th><th scope=col>Language_ID</th><th scope=col>Name</th><th scope=col>Macroarea</th><th scope=col>Latitude</th><th scope=col>Longitude</th><th scope=col>Glottocode</th><th scope=col>ISO639P3code</th><th scope=col>ID</th><th scope=col>Parameter_ID</th><th scope=col>Value</th><th scope=col>Code_ID</th><th scope=col>Comment</th><th scope=col>Source</th><th scope=col>Contribution_ID</th></tr></thead>\n",
       "<tbody>\n",
       "\t<tr><th scope=row>160</th><td>emb                     </td><td>Emberá (Northern)       </td><td>NA                      </td><td>  6.833333              </td><td> -77.16667              </td><td>nort2972                </td><td>emp                     </td><td>129A-emb                </td><td>129A                    </td><td>Different               </td><td>129A-2                  </td><td>NA                      </td><td>Huber-and-Reed-1992     </td><td>129                     </td></tr>\n",
       "\t<tr><th scope=row>189</th><td>grk                     </td><td>Greek (Modern)          </td><td>NA                      </td><td> 39.000000              </td><td>  22.00000              </td><td>mode1248                </td><td>ell                     </td><td>129A-grk                </td><td>129A                    </td><td>Different               </td><td>129A-2                  </td><td>NA                      </td><td>Bergman-1968            </td><td>129                     </td></tr>\n",
       "\t<tr><th scope=row>223</th><td>iri                     </td><td>Irish                   </td><td>NA                      </td><td> 53.000000              </td><td>  -8.00000              </td><td>iris1253                </td><td>gle                     </td><td>129A-iri                </td><td>129A                    </td><td>Different               </td><td>129A-2                  </td><td>NA                      </td><td>Siochfhradha-1958       </td><td>129                     </td></tr>\n",
       "\t<tr><th scope=row>305</th><td>mca                     </td><td>Maca                    </td><td>NA                      </td><td>-25.000000              </td><td> -57.50000              </td><td>maca1260                </td><td>mca                     </td><td>129A-mca                </td><td>129A                    </td><td>Different               </td><td>129A-2                  </td><td>NA                      </td><td>Hunt-1915               </td><td>129                     </td></tr>\n",
       "\t<tr><th scope=row>311</th><td>mcv                     </td><td>Mocoví                  </td><td>NA                      </td><td>-28.000000              </td><td> -60.50000              </td><td>moco1246                </td><td>moc                     </td><td>129A-mcv                </td><td>129A                    </td><td>Different               </td><td>129A-2                  </td><td>NA                      </td><td>Flury-1951              </td><td>129                     </td></tr>\n",
       "\t<tr><th scope=row>439</th><td>pol                     </td><td>Polish                  </td><td>NA                      </td><td> 52.000000              </td><td>  20.00000              </td><td>poli1260                </td><td>pol                     </td><td>129A-pol                </td><td>129A                    </td><td>Different               </td><td>129A-2                  </td><td>NA                      </td><td>Bulas-and-Whitfield-1983</td><td>129                     </td></tr>\n",
       "\t<tr><th scope=row>459</th><td>rap                     </td><td>Rapanui                 </td><td>NA                      </td><td>-27.116667              </td><td>-109.36667              </td><td>rapa1244                </td><td>rap                     </td><td>129A-rap                </td><td>129A                    </td><td>Different               </td><td>129A-2                  </td><td>NA                      </td><td>Fuentes-1960            </td><td>129                     </td></tr>\n",
       "\t<tr><th scope=row>527</th><td>tob                     </td><td>Toba                    </td><td>NA                      </td><td>-26.500000              </td><td> -59.00000              </td><td>toba1269                </td><td>tob                     </td><td>129A-tob                </td><td>129A                    </td><td>Different               </td><td>129A-2                  </td><td>NA                      </td><td>Buckwalter-1980         </td><td>129                     </td></tr>\n",
       "</tbody>\n",
       "</table>\n"
      ],
      "text/latex": [
       "\\begin{tabular}{r|llllllllllllll}\n",
       "  & Language\\_ID & Name & Macroarea & Latitude & Longitude & Glottocode & ISO639P3code & ID & Parameter\\_ID & Value & Code\\_ID & Comment & Source & Contribution\\_ID\\\\\n",
       "\\hline\n",
       "\t160 & emb                      & Emberá (Northern)        & NA                       &   6.833333               &  -77.16667               & nort2972                 & emp                      & 129A-emb                 & 129A                     & Different                & 129A-2                   & NA                       & Huber-and-Reed-1992      & 129                     \\\\\n",
       "\t189 & grk                      & Greek (Modern)           & NA                       &  39.000000               &   22.00000               & mode1248                 & ell                      & 129A-grk                 & 129A                     & Different                & 129A-2                   & NA                       & Bergman-1968             & 129                     \\\\\n",
       "\t223 & iri                      & Irish                    & NA                       &  53.000000               &   -8.00000               & iris1253                 & gle                      & 129A-iri                 & 129A                     & Different                & 129A-2                   & NA                       & Siochfhradha-1958        & 129                     \\\\\n",
       "\t305 & mca                      & Maca                     & NA                       & -25.000000               &  -57.50000               & maca1260                 & mca                      & 129A-mca                 & 129A                     & Different                & 129A-2                   & NA                       & Hunt-1915                & 129                     \\\\\n",
       "\t311 & mcv                      & Mocoví                   & NA                       & -28.000000               &  -60.50000               & moco1246                 & moc                      & 129A-mcv                 & 129A                     & Different                & 129A-2                   & NA                       & Flury-1951               & 129                     \\\\\n",
       "\t439 & pol                      & Polish                   & NA                       &  52.000000               &   20.00000               & poli1260                 & pol                      & 129A-pol                 & 129A                     & Different                & 129A-2                   & NA                       & Bulas-and-Whitfield-1983 & 129                     \\\\\n",
       "\t459 & rap                      & Rapanui                  & NA                       & -27.116667               & -109.36667               & rapa1244                 & rap                      & 129A-rap                 & 129A                     & Different                & 129A-2                   & NA                       & Fuentes-1960             & 129                     \\\\\n",
       "\t527 & tob                      & Toba                     & NA                       & -26.500000               &  -59.00000               & toba1269                 & tob                      & 129A-tob                 & 129A                     & Different                & 129A-2                   & NA                       & Buckwalter-1980          & 129                     \\\\\n",
       "\\end{tabular}\n"
      ],
      "text/markdown": [
       "\n",
       "| <!--/--> | Language_ID | Name | Macroarea | Latitude | Longitude | Glottocode | ISO639P3code | ID | Parameter_ID | Value | Code_ID | Comment | Source | Contribution_ID | \n",
       "|---|---|---|---|---|---|---|---|\n",
       "| 160 | emb                      | Emberá (Northern)        | NA                       |   6.833333               |  -77.16667               | nort2972                 | emp                      | 129A-emb                 | 129A                     | Different                | 129A-2                   | NA                       | Huber-and-Reed-1992      | 129                      | \n",
       "| 189 | grk                      | Greek (Modern)           | NA                       |  39.000000               |   22.00000               | mode1248                 | ell                      | 129A-grk                 | 129A                     | Different                | 129A-2                   | NA                       | Bergman-1968             | 129                      | \n",
       "| 223 | iri                      | Irish                    | NA                       |  53.000000               |   -8.00000               | iris1253                 | gle                      | 129A-iri                 | 129A                     | Different                | 129A-2                   | NA                       | Siochfhradha-1958        | 129                      | \n",
       "| 305 | mca                      | Maca                     | NA                       | -25.000000               |  -57.50000               | maca1260                 | mca                      | 129A-mca                 | 129A                     | Different                | 129A-2                   | NA                       | Hunt-1915                | 129                      | \n",
       "| 311 | mcv                      | Mocoví                   | NA                       | -28.000000               |  -60.50000               | moco1246                 | moc                      | 129A-mcv                 | 129A                     | Different                | 129A-2                   | NA                       | Flury-1951               | 129                      | \n",
       "| 439 | pol                      | Polish                   | NA                       |  52.000000               |   20.00000               | poli1260                 | pol                      | 129A-pol                 | 129A                     | Different                | 129A-2                   | NA                       | Bulas-and-Whitfield-1983 | 129                      | \n",
       "| 459 | rap                      | Rapanui                  | NA                       | -27.116667               | -109.36667               | rapa1244                 | rap                      | 129A-rap                 | 129A                     | Different                | 129A-2                   | NA                       | Fuentes-1960             | 129                      | \n",
       "| 527 | tob                      | Toba                     | NA                       | -26.500000               |  -59.00000               | toba1269                 | tob                      | 129A-tob                 | 129A                     | Different                | 129A-2                   | NA                       | Buckwalter-1980          | 129                      | \n",
       "\n",
       "\n"
      ],
      "text/plain": [
       "    Language_ID Name              Macroarea Latitude   Longitude  Glottocode\n",
       "160 emb         Emberá (Northern) NA          6.833333  -77.16667 nort2972  \n",
       "189 grk         Greek (Modern)    NA         39.000000   22.00000 mode1248  \n",
       "223 iri         Irish             NA         53.000000   -8.00000 iris1253  \n",
       "305 mca         Maca              NA        -25.000000  -57.50000 maca1260  \n",
       "311 mcv         Mocoví            NA        -28.000000  -60.50000 moco1246  \n",
       "439 pol         Polish            NA         52.000000   20.00000 poli1260  \n",
       "459 rap         Rapanui           NA        -27.116667 -109.36667 rapa1244  \n",
       "527 tob         Toba              NA        -26.500000  -59.00000 toba1269  \n",
       "    ISO639P3code ID       Parameter_ID Value     Code_ID Comment\n",
       "160 emp          129A-emb 129A         Different 129A-2  NA     \n",
       "189 ell          129A-grk 129A         Different 129A-2  NA     \n",
       "223 gle          129A-iri 129A         Different 129A-2  NA     \n",
       "305 mca          129A-mca 129A         Different 129A-2  NA     \n",
       "311 moc          129A-mcv 129A         Different 129A-2  NA     \n",
       "439 pol          129A-pol 129A         Different 129A-2  NA     \n",
       "459 rap          129A-rap 129A         Different 129A-2  NA     \n",
       "527 tob          129A-tob 129A         Different 129A-2  NA     \n",
       "    Source                   Contribution_ID\n",
       "160 Huber-and-Reed-1992      129            \n",
       "189 Bergman-1968             129            \n",
       "223 Siochfhradha-1958        129            \n",
       "305 Hunt-1915                129            \n",
       "311 Flury-1951               129            \n",
       "439 Bulas-and-Whitfield-1983 129            \n",
       "459 Fuentes-1960             129            \n",
       "527 Buckwalter-1980          129            "
      ]
     },
     "metadata": {},
     "output_type": "display_data"
    }
   ],
   "source": [
    "differences"
   ]
  },
  {
   "cell_type": "code",
   "execution_count": null,
   "metadata": {},
   "outputs": [],
   "source": []
  }
 ],
 "metadata": {
  "kernelspec": {
   "display_name": "R",
   "language": "R",
   "name": "r"
  },
  "language_info": {
   "codemirror_mode": "r",
   "file_extension": ".r",
   "mimetype": "text/x-r-source",
   "name": "R",
   "pygments_lexer": "r",
   "version": "3.4.1"
  }
 },
 "nbformat": 4,
 "nbformat_minor": 2
}
