{
 "cells": [
  {
   "cell_type": "markdown",
   "metadata": {},
   "source": [
    "# Extracting a Concept List from LingPy Wordlists\n",
    "\n"
   ]
  },
  {
   "cell_type": "code",
   "execution_count": 1,
   "metadata": {
    "collapsed": true
   },
   "outputs": [],
   "source": [
    "from lingpy import *\n",
    "from pyconcepticon.api import Concepticon\n",
    "\n",
    "\n",
    "def to_conceptlist(wordlist, prefix='Concepts-2018-{0}', concepticon=False):\n",
    "\n",
    "    if not concepticon:\n",
    "        header = ['ID', 'NUMBER', 'ENGLISH']\n",
    "    else:\n",
    "        # get concepticon\n",
    "        if not 'concepticon_id' in wordlist.header and not \\\n",
    "                'concepticon_gloss' in wordlist.header:\n",
    "            raise ValueError(\"at least concepticon gloss or id needs to be submitted\")\n",
    "        g2s = {c.gloss: c.id for c in Concepticon().conceptsets.values()}\n",
    "        s2g = {c.id: c.gloss for c in Concepticon().conceptsets.values()}\n",
    "        header = ['ID', 'NUMBER', 'ENGLISH', 'CONCEPTICON_ID',\n",
    "                'CONCEPTICON_GLOSS']\n",
    "\n",
    "    concepts = []\n",
    "    etd = wordlist.get_etymdict(ref='concept')\n",
    "\n",
    "    for i, c in enumerate(wordlist.rows):\n",
    "        if not concepticon:\n",
    "            concepts += [(prefix.format(\n",
    "                str(wordlist.height)+'-'+str(i+1)), str(i+1), c)]\n",
    "        else:\n",
    "            # get concepticon id\n",
    "            idx = [x[0] for x in etd[c] if x][0]\n",
    "            if not 'concepticon_id' in wordlist.header:\n",
    "                cid = g2s.get(wordlist[idx, 'concepticon_gloss'], '')\n",
    "            else:\n",
    "                cid = wordlist[idx, 'concepticon_id']\n",
    "            if not 'concepticon_gloss' in wordlist.header:\n",
    "                cgl = s2g.get(wordlist[idx, 'concepticon_id'], '')\n",
    "            else:\n",
    "                cgl = wordlist[idx, 'concepticon_gloss']\n",
    "\n",
    "            concepts += [(prefix.format(\n",
    "                str(wordlist.height)+'-'+str(i+1)), str(i+1), c, cid, cgl)]\n",
    "\n",
    "    with open(prefix.format(len(concepts))+'.tsv', 'w') as f:\n",
    "        f.write('\\t'.join(header)+'\\n')\n",
    "        for row in concepts:\n",
    "            f.write('\\t'.join(row)+'\\n')\n"
   ]
  },
  {
   "cell_type": "code",
   "execution_count": null,
   "metadata": {
    "collapsed": true
   },
   "outputs": [],
   "source": []
  }
 ],
 "metadata": {
  "kernelspec": {
   "display_name": "Python 3",
   "language": "python",
   "name": "python3"
  },
  "language_info": {
   "codemirror_mode": {
    "name": "ipython",
    "version": 3
   },
   "file_extension": ".py",
   "mimetype": "text/x-python",
   "name": "python",
   "nbconvert_exporter": "python",
   "pygments_lexer": "ipython3",
   "version": "3.5.2"
  }
 },
 "nbformat": 4,
 "nbformat_minor": 2
}
